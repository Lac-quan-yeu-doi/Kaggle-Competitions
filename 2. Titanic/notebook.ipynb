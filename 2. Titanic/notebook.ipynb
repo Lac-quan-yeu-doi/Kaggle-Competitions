{
 "cells": [
  {
   "cell_type": "markdown",
   "metadata": {},
   "source": [
    "# Clean everything"
   ]
  },
  {
   "cell_type": "code",
   "execution_count": 232,
   "metadata": {
    "execution": {
     "iopub.execute_input": "2025-03-15T17:14:22.343989Z",
     "iopub.status.busy": "2025-03-15T17:14:22.343629Z",
     "iopub.status.idle": "2025-03-15T17:14:22.351032Z",
     "shell.execute_reply": "2025-03-15T17:14:22.349975Z",
     "shell.execute_reply.started": "2025-03-15T17:14:22.343960Z"
    },
    "trusted": true
   },
   "outputs": [
    {
     "name": "stdout",
     "output_type": "stream",
     "text": [
      "All files and folders have been removed!\n"
     ]
    }
   ],
   "source": [
    "import os\n",
    "import shutil\n",
    "\n",
    "current_folder = os.getcwd()\n",
    "\n",
    "for item in os.listdir(current_folder):\n",
    "    item_path = os.path.join(current_folder, item)\n",
    "    \n",
    "    if os.path.isfile(item_path) or os.path.islink(item_path):\n",
    "        os.remove(item_path)\n",
    "    elif os.path.isdir(item_path):\n",
    "        shutil.rmtree(item_path)\n",
    "\n",
    "print(\"All files and folders have been removed!\")"
   ]
  },
  {
   "cell_type": "markdown",
   "metadata": {},
   "source": [
    "# Library"
   ]
  },
  {
   "cell_type": "code",
   "execution_count": null,
   "metadata": {
    "_cell_guid": "b1076dfc-b9ad-4769-8c92-a6c4dae69d19",
    "_uuid": "8f2839f25d086af736a60e9eeb907d3b93b6e0e5",
    "execution": {
     "iopub.execute_input": "2025-03-15T17:12:51.352646Z",
     "iopub.status.busy": "2025-03-15T17:12:51.352285Z",
     "iopub.status.idle": "2025-03-15T17:12:51.358824Z",
     "shell.execute_reply": "2025-03-15T17:12:51.357707Z",
     "shell.execute_reply.started": "2025-03-15T17:12:51.352606Z"
    },
    "trusted": true
   },
   "outputs": [],
   "source": [
    "import numpy as np\n",
    "import pandas as pd\n",
    "import matplotlib.pyplot as plt\n",
    "import seaborn as sns\n",
    "from sklearn.model_selection import train_test_split\n",
    "from sklearn.metrics import classification_report, accuracy_score"
   ]
  },
  {
   "cell_type": "markdown",
   "metadata": {},
   "source": [
    "# Load data"
   ]
  },
  {
   "cell_type": "code",
   "execution_count": 191,
   "metadata": {
    "execution": {
     "iopub.execute_input": "2025-03-15T17:12:51.381444Z",
     "iopub.status.busy": "2025-03-15T17:12:51.381018Z",
     "iopub.status.idle": "2025-03-15T17:12:51.386367Z",
     "shell.execute_reply": "2025-03-15T17:12:51.385128Z",
     "shell.execute_reply.started": "2025-03-15T17:12:51.381404Z"
    },
    "trusted": true
   },
   "outputs": [],
   "source": [
    "input_path = \"/kaggle/input/titanic\""
   ]
  },
  {
   "cell_type": "code",
   "execution_count": 192,
   "metadata": {
    "execution": {
     "iopub.execute_input": "2025-03-15T17:12:51.411927Z",
     "iopub.status.busy": "2025-03-15T17:12:51.411580Z",
     "iopub.status.idle": "2025-03-15T17:12:51.426619Z",
     "shell.execute_reply": "2025-03-15T17:12:51.425565Z",
     "shell.execute_reply.started": "2025-03-15T17:12:51.411899Z"
    },
    "trusted": true
   },
   "outputs": [],
   "source": [
    "train_df = pd.read_csv(f\"{input_path}/train.csv\", index_col = \"PassengerId\")\n",
    "test_df = pd.read_csv(f\"{input_path}/test.csv\", index_col = \"PassengerId\")"
   ]
  },
  {
   "cell_type": "code",
   "execution_count": 193,
   "metadata": {
    "execution": {
     "iopub.execute_input": "2025-03-15T17:12:51.435909Z",
     "iopub.status.busy": "2025-03-15T17:12:51.435586Z",
     "iopub.status.idle": "2025-03-15T17:12:51.439922Z",
     "shell.execute_reply": "2025-03-15T17:12:51.438820Z",
     "shell.execute_reply.started": "2025-03-15T17:12:51.435882Z"
    },
    "trusted": true
   },
   "outputs": [],
   "source": [
    "# train_df.describe"
   ]
  },
  {
   "cell_type": "code",
   "execution_count": 194,
   "metadata": {
    "execution": {
     "iopub.execute_input": "2025-03-15T17:12:51.473199Z",
     "iopub.status.busy": "2025-03-15T17:12:51.472803Z",
     "iopub.status.idle": "2025-03-15T17:12:51.477003Z",
     "shell.execute_reply": "2025-03-15T17:12:51.475907Z",
     "shell.execute_reply.started": "2025-03-15T17:12:51.473162Z"
    },
    "trusted": true
   },
   "outputs": [],
   "source": [
    "# print(train_df.shape)\n",
    "# train_df[:2]"
   ]
  },
  {
   "cell_type": "code",
   "execution_count": 195,
   "metadata": {
    "execution": {
     "iopub.execute_input": "2025-03-15T17:12:51.520865Z",
     "iopub.status.busy": "2025-03-15T17:12:51.520538Z",
     "iopub.status.idle": "2025-03-15T17:12:51.532612Z",
     "shell.execute_reply": "2025-03-15T17:12:51.531456Z",
     "shell.execute_reply.started": "2025-03-15T17:12:51.520839Z"
    },
    "trusted": true
   },
   "outputs": [
    {
     "name": "stdout",
     "output_type": "stream",
     "text": [
      "<class 'pandas.core.frame.DataFrame'>\n",
      "Index: 891 entries, 1 to 891\n",
      "Data columns (total 11 columns):\n",
      " #   Column    Non-Null Count  Dtype  \n",
      "---  ------    --------------  -----  \n",
      " 0   Survived  891 non-null    int64  \n",
      " 1   Pclass    891 non-null    int64  \n",
      " 2   Name      891 non-null    object \n",
      " 3   Sex       891 non-null    object \n",
      " 4   Age       714 non-null    float64\n",
      " 5   SibSp     891 non-null    int64  \n",
      " 6   Parch     891 non-null    int64  \n",
      " 7   Ticket    891 non-null    object \n",
      " 8   Fare      891 non-null    float64\n",
      " 9   Cabin     204 non-null    object \n",
      " 10  Embarked  889 non-null    object \n",
      "dtypes: float64(2), int64(4), object(5)\n",
      "memory usage: 83.5+ KB\n"
     ]
    }
   ],
   "source": [
    "train_df.info()"
   ]
  },
  {
   "cell_type": "code",
   "execution_count": 196,
   "metadata": {
    "execution": {
     "iopub.execute_input": "2025-03-15T17:12:51.559436Z",
     "iopub.status.busy": "2025-03-15T17:12:51.559073Z",
     "iopub.status.idle": "2025-03-15T17:12:51.567595Z",
     "shell.execute_reply": "2025-03-15T17:12:51.566360Z",
     "shell.execute_reply.started": "2025-03-15T17:12:51.559405Z"
    },
    "trusted": true
   },
   "outputs": [
    {
     "data": {
      "text/plain": [
       "array([ 0.42,  0.67,  0.75,  0.83,  0.92,  1.  ,  2.  ,  3.  ,  4.  ,\n",
       "        5.  ,  6.  ,  7.  ,  8.  ,  9.  , 10.  , 11.  , 12.  , 13.  ,\n",
       "       14.  , 14.5 , 15.  , 16.  , 17.  , 18.  , 19.  , 20.  , 20.5 ,\n",
       "       21.  , 22.  , 23.  , 23.5 , 24.  , 24.5 , 25.  , 26.  , 27.  ,\n",
       "       28.  , 28.5 , 29.  , 30.  , 30.5 , 31.  , 32.  , 32.5 , 33.  ,\n",
       "       34.  , 34.5 , 35.  , 36.  , 36.5 , 37.  , 38.  , 39.  , 40.  ,\n",
       "       40.5 , 41.  , 42.  , 43.  , 44.  , 45.  , 45.5 , 46.  , 47.  ,\n",
       "       48.  , 49.  , 50.  , 51.  , 52.  , 53.  , 54.  , 55.  , 55.5 ,\n",
       "       56.  , 57.  , 58.  , 59.  , 60.  , 61.  , 62.  , 63.  , 64.  ,\n",
       "       65.  , 66.  , 70.  , 70.5 , 71.  , 74.  , 80.  ,   nan])"
      ]
     },
     "execution_count": 196,
     "metadata": {},
     "output_type": "execute_result"
    }
   ],
   "source": [
    "np.unique(train_df.Age)"
   ]
  },
  {
   "cell_type": "code",
   "execution_count": 198,
   "metadata": {
    "execution": {
     "iopub.execute_input": "2025-03-15T17:12:51.613014Z",
     "iopub.status.busy": "2025-03-15T17:12:51.612593Z",
     "iopub.status.idle": "2025-03-15T17:12:51.623926Z",
     "shell.execute_reply": "2025-03-15T17:12:51.622490Z",
     "shell.execute_reply.started": "2025-03-15T17:12:51.612968Z"
    },
    "trusted": true
   },
   "outputs": [
    {
     "name": "stdout",
     "output_type": "stream",
     "text": [
      "<class 'pandas.core.frame.DataFrame'>\n",
      "Index: 891 entries, 1 to 891\n",
      "Data columns (total 11 columns):\n",
      " #   Column    Non-Null Count  Dtype  \n",
      "---  ------    --------------  -----  \n",
      " 0   Survived  891 non-null    int64  \n",
      " 1   Pclass    891 non-null    int64  \n",
      " 2   Name      891 non-null    object \n",
      " 3   Sex       891 non-null    object \n",
      " 4   Age       714 non-null    float64\n",
      " 5   SibSp     891 non-null    int64  \n",
      " 6   Parch     891 non-null    int64  \n",
      " 7   Ticket    891 non-null    object \n",
      " 8   Fare      891 non-null    float64\n",
      " 9   Cabin     204 non-null    object \n",
      " 10  Embarked  889 non-null    object \n",
      "dtypes: float64(2), int64(4), object(5)\n",
      "memory usage: 83.5+ KB\n"
     ]
    }
   ],
   "source": [
    "train_df.info()"
   ]
  },
  {
   "cell_type": "code",
   "execution_count": 199,
   "metadata": {
    "execution": {
     "iopub.execute_input": "2025-03-15T17:12:51.657241Z",
     "iopub.status.busy": "2025-03-15T17:12:51.656883Z",
     "iopub.status.idle": "2025-03-15T17:12:51.666008Z",
     "shell.execute_reply": "2025-03-15T17:12:51.664819Z",
     "shell.execute_reply.started": "2025-03-15T17:12:51.657212Z"
    },
    "trusted": true
   },
   "outputs": [
    {
     "data": {
      "text/plain": [
       "object     5\n",
       "int64      4\n",
       "float64    2\n",
       "Name: count, dtype: int64"
      ]
     },
     "execution_count": 199,
     "metadata": {},
     "output_type": "execute_result"
    }
   ],
   "source": [
    "train_df.dtypes.value_counts()"
   ]
  },
  {
   "cell_type": "code",
   "execution_count": 200,
   "metadata": {
    "execution": {
     "iopub.execute_input": "2025-03-15T17:12:51.703199Z",
     "iopub.status.busy": "2025-03-15T17:12:51.702823Z",
     "iopub.status.idle": "2025-03-15T17:12:51.710426Z",
     "shell.execute_reply": "2025-03-15T17:12:51.708979Z",
     "shell.execute_reply.started": "2025-03-15T17:12:51.703167Z"
    },
    "trusted": true
   },
   "outputs": [
    {
     "data": {
      "text/plain": [
       "Index(['Survived', 'Pclass', 'Age', 'SibSp', 'Parch', 'Fare'], dtype='object')"
      ]
     },
     "execution_count": 200,
     "metadata": {},
     "output_type": "execute_result"
    }
   ],
   "source": [
    "continuous_all = train_df.select_dtypes(exclude = 'object').columns\n",
    "continuous_all"
   ]
  },
  {
   "cell_type": "code",
   "execution_count": 201,
   "metadata": {
    "execution": {
     "iopub.execute_input": "2025-03-15T17:12:51.751655Z",
     "iopub.status.busy": "2025-03-15T17:12:51.751070Z",
     "iopub.status.idle": "2025-03-15T17:12:51.758777Z",
     "shell.execute_reply": "2025-03-15T17:12:51.757767Z",
     "shell.execute_reply.started": "2025-03-15T17:12:51.751606Z"
    },
    "trusted": true
   },
   "outputs": [
    {
     "data": {
      "text/plain": [
       "Index(['Name', 'Sex', 'Ticket', 'Cabin', 'Embarked'], dtype='object')"
      ]
     },
     "execution_count": 201,
     "metadata": {},
     "output_type": "execute_result"
    }
   ],
   "source": [
    "categorical_all = train_df.select_dtypes(include = 'object').columns\n",
    "categorical_all"
   ]
  },
  {
   "cell_type": "code",
   "execution_count": 202,
   "metadata": {
    "execution": {
     "iopub.execute_input": "2025-03-15T17:12:51.869158Z",
     "iopub.status.busy": "2025-03-15T17:12:51.868801Z",
     "iopub.status.idle": "2025-03-15T17:12:51.873276Z",
     "shell.execute_reply": "2025-03-15T17:12:51.872212Z",
     "shell.execute_reply.started": "2025-03-15T17:12:51.869131Z"
    },
    "trusted": true
   },
   "outputs": [],
   "source": [
    "target = \"Survived\""
   ]
  },
  {
   "cell_type": "markdown",
   "metadata": {},
   "source": [
    "# Evaluate features"
   ]
  },
  {
   "cell_type": "markdown",
   "metadata": {},
   "source": [
    "## Hitogram check"
   ]
  },
  {
   "cell_type": "code",
   "execution_count": 203,
   "metadata": {
    "execution": {
     "iopub.execute_input": "2025-03-15T17:12:52.002251Z",
     "iopub.status.busy": "2025-03-15T17:12:52.001864Z",
     "iopub.status.idle": "2025-03-15T17:12:53.750171Z",
     "shell.execute_reply": "2025-03-15T17:12:53.748975Z",
     "shell.execute_reply.started": "2025-03-15T17:12:52.002216Z"
    },
    "trusted": true
   },
   "outputs": [
    {
     "name": "stderr",
     "output_type": "stream",
     "text": [
      "/usr/local/lib/python3.10/dist-packages/seaborn/_oldcore.py:1119: FutureWarning: use_inf_as_na option is deprecated and will be removed in a future version. Convert inf values to NaN before operating instead.\n",
      "  with pd.option_context('mode.use_inf_as_na', True):\n",
      "/usr/local/lib/python3.10/dist-packages/seaborn/_oldcore.py:1119: FutureWarning: use_inf_as_na option is deprecated and will be removed in a future version. Convert inf values to NaN before operating instead.\n",
      "  with pd.option_context('mode.use_inf_as_na', True):\n",
      "/usr/local/lib/python3.10/dist-packages/seaborn/_oldcore.py:1119: FutureWarning: use_inf_as_na option is deprecated and will be removed in a future version. Convert inf values to NaN before operating instead.\n",
      "  with pd.option_context('mode.use_inf_as_na', True):\n",
      "/usr/local/lib/python3.10/dist-packages/seaborn/_oldcore.py:1119: FutureWarning: use_inf_as_na option is deprecated and will be removed in a future version. Convert inf values to NaN before operating instead.\n",
      "  with pd.option_context('mode.use_inf_as_na', True):\n",
      "/usr/local/lib/python3.10/dist-packages/seaborn/_oldcore.py:1119: FutureWarning: use_inf_as_na option is deprecated and will be removed in a future version. Convert inf values to NaN before operating instead.\n",
      "  with pd.option_context('mode.use_inf_as_na', True):\n",
      "/usr/local/lib/python3.10/dist-packages/seaborn/_oldcore.py:1119: FutureWarning: use_inf_as_na option is deprecated and will be removed in a future version. Convert inf values to NaN before operating instead.\n",
      "  with pd.option_context('mode.use_inf_as_na', True):\n"
     ]
    },
    {
     "data": {
      "image/png": "[encoded data removed]",
      "text/plain": [
       "<Figure size 2000x400 with 6 Axes>"
      ]
     },
     "metadata": {},
     "output_type": "display_data"
    }
   ],
   "source": [
    "column_quantity = len(continuous_all)\n",
    "plt.figure(figsize=(20,4))\n",
    "for i, col in enumerate(continuous_all):\n",
    "    plt.subplot(1, column_quantity, i+1)\n",
    "    sns.histplot(train_df[col], kde=True)\n",
    "    plt.xlabel(f'{col}')\n",
    "    plt.ylabel('Frequency')\n",
    "    plt.title(f'Histogram of {col}')\n",
    "    \n",
    "plt.tight_layout()"
   ]
  },
  {
   "cell_type": "code",
   "execution_count": 204,
   "metadata": {
    "execution": {
     "iopub.execute_input": "2025-03-15T17:12:53.752177Z",
     "iopub.status.busy": "2025-03-15T17:12:53.751774Z",
     "iopub.status.idle": "2025-03-15T17:12:54.144947Z",
     "shell.execute_reply": "2025-03-15T17:12:54.143509Z",
     "shell.execute_reply.started": "2025-03-15T17:12:53.752137Z"
    },
    "trusted": true
   },
   "outputs": [
    {
     "data": {
      "image/png": "[encoded data removed]",
      "text/plain": [
       "<Figure size 1000x400 with 2 Axes>"
      ]
     },
     "metadata": {},
     "output_type": "display_data"
    }
   ],
   "source": [
    "categorical_graph = [x for x in categorical_all if x not in [\"Ticket\", \"Cabin\", \"Age\", \"Name\"]]\n",
    "column_quantity = len(categorical_graph)\n",
    "plt.figure(figsize=(10,4))\n",
    "for i, col in enumerate(categorical_graph):\n",
    "    plt.subplot(1, column_quantity, i+1)\n",
    "    sns.countplot(x=col, data=train_df, palette=\"viridis\")\n",
    "    plt.xlabel(f'{col}')\n",
    "    plt.ylabel('Frequency')\n",
    "    plt.title(f'Frequency of {col}')\n",
    "    \n",
    "plt.tight_layout()"
   ]
  },
  {
   "cell_type": "markdown",
   "metadata": {},
   "source": [
    "## Correlation matrix"
   ]
  },
  {
   "cell_type": "code",
   "execution_count": 205,
   "metadata": {
    "execution": {
     "iopub.execute_input": "2025-03-15T17:12:54.147094Z",
     "iopub.status.busy": "2025-03-15T17:12:54.146743Z",
     "iopub.status.idle": "2025-03-15T17:12:54.515121Z",
     "shell.execute_reply": "2025-03-15T17:12:54.513583Z",
     "shell.execute_reply.started": "2025-03-15T17:12:54.147028Z"
    },
    "trusted": true
   },
   "outputs": [
    {
     "data": {
      "text/plain": [
       "<Axes: >"
      ]
     },
     "execution_count": 205,
     "metadata": {},
     "output_type": "execute_result"
    },
    {
     "data": {
      "image/png": "[encoded data removed]",
      "text/plain": [
       "<Figure size 640x480 with 2 Axes>"
      ]
     },
     "metadata": {},
     "output_type": "display_data"
    }
   ],
   "source": [
    "sns.heatmap(train_df[continuous_all].corr(), annot=True, cmap='Blues')"
   ]
  },
  {
   "cell_type": "code",
   "execution_count": 206,
   "metadata": {
    "execution": {
     "iopub.execute_input": "2025-03-15T17:12:54.516928Z",
     "iopub.status.busy": "2025-03-15T17:12:54.516534Z",
     "iopub.status.idle": "2025-03-15T17:12:54.521244Z",
     "shell.execute_reply": "2025-03-15T17:12:54.519997Z",
     "shell.execute_reply.started": "2025-03-15T17:12:54.516898Z"
    },
    "trusted": true
   },
   "outputs": [],
   "source": [
    "# np.unique(train_df.Name)"
   ]
  },
  {
   "cell_type": "markdown",
   "metadata": {},
   "source": [
    "# Process data"
   ]
  },
  {
   "cell_type": "markdown",
   "metadata": {},
   "source": [
    "## Fill NA"
   ]
  },
  {
   "cell_type": "code",
   "execution_count": 207,
   "metadata": {
    "execution": {
     "iopub.execute_input": "2025-03-15T17:12:54.522779Z",
     "iopub.status.busy": "2025-03-15T17:12:54.522399Z",
     "iopub.status.idle": "2025-03-15T17:12:54.543441Z",
     "shell.execute_reply": "2025-03-15T17:12:54.542172Z",
     "shell.execute_reply.started": "2025-03-15T17:12:54.522738Z"
    },
    "trusted": true
   },
   "outputs": [],
   "source": [
    "train_df['Age'] = train_df['Age'].fillna(train_df['Age'].mean())\n",
    "test_df['Age'] = test_df['Age'].fillna(test_df['Age'].mean())\n",
    "test_df['Fare'] = test_df['Fare'].fillna(test_df['Fare'].mean())\n",
    "train_df['Embarked'] = train_df['Embarked'].fillna(train_df['Embarked'].mode()[0])"
   ]
  },
  {
   "cell_type": "markdown",
   "metadata": {},
   "source": [
    "## Get title from name"
   ]
  },
  {
   "cell_type": "code",
   "execution_count": 208,
   "metadata": {
    "execution": {
     "iopub.execute_input": "2025-03-15T17:12:54.545262Z",
     "iopub.status.busy": "2025-03-15T17:12:54.544824Z",
     "iopub.status.idle": "2025-03-15T17:12:54.565183Z",
     "shell.execute_reply": "2025-03-15T17:12:54.563938Z",
     "shell.execute_reply.started": "2025-03-15T17:12:54.545219Z"
    },
    "trusted": true
   },
   "outputs": [],
   "source": [
    "def extract_title(name):\n",
    "    title = name.split(\",\")[1].split(\".\")[0].strip()\n",
    "    return title\n",
    "train_df['Title'] = train_df['Name'].apply(extract_title)\n",
    "test_df['Title'] = test_df['Name'].apply(extract_title)"
   ]
  },
  {
   "cell_type": "code",
   "execution_count": 209,
   "metadata": {
    "execution": {
     "iopub.execute_input": "2025-03-15T17:12:54.566874Z",
     "iopub.status.busy": "2025-03-15T17:12:54.566372Z",
     "iopub.status.idle": "2025-03-15T17:12:54.588019Z",
     "shell.execute_reply": "2025-03-15T17:12:54.586930Z",
     "shell.execute_reply.started": "2025-03-15T17:12:54.566828Z"
    },
    "trusted": true
   },
   "outputs": [
    {
     "data": {
      "text/plain": [
       "Title\n",
       "Mr              517\n",
       "Miss            182\n",
       "Mrs             125\n",
       "Master           40\n",
       "Dr                7\n",
       "Rev               6\n",
       "Mlle              2\n",
       "Major             2\n",
       "Col               2\n",
       "the Countess      1\n",
       "Capt              1\n",
       "Ms                1\n",
       "Sir               1\n",
       "Lady              1\n",
       "Mme               1\n",
       "Don               1\n",
       "Jonkheer          1\n",
       "Name: count, dtype: int64"
      ]
     },
     "execution_count": 209,
     "metadata": {},
     "output_type": "execute_result"
    }
   ],
   "source": [
    "train_df.Title.value_counts()"
   ]
  },
  {
   "cell_type": "code",
   "execution_count": 210,
   "metadata": {
    "execution": {
     "iopub.execute_input": "2025-03-15T17:12:54.591662Z",
     "iopub.status.busy": "2025-03-15T17:12:54.591350Z",
     "iopub.status.idle": "2025-03-15T17:12:54.607400Z",
     "shell.execute_reply": "2025-03-15T17:12:54.606209Z",
     "shell.execute_reply.started": "2025-03-15T17:12:54.591633Z"
    },
    "trusted": true
   },
   "outputs": [],
   "source": [
    "rare = ['Dr', 'Rev', 'Col', 'Major', 'Mlle', 'Mme', 'Ms', 'Don','Donna', 'Lady', 'the Countess', 'Jonkheer', 'Sir', 'Capt']\n",
    "train_df['Title'] = train_df['Title'].replace(rare, 'Rare')\n",
    "test_df['Title'] = test_df['Title'].replace(rare, 'Rare')"
   ]
  },
  {
   "cell_type": "code",
   "execution_count": 211,
   "metadata": {
    "execution": {
     "iopub.execute_input": "2025-03-15T17:12:54.610001Z",
     "iopub.status.busy": "2025-03-15T17:12:54.609569Z",
     "iopub.status.idle": "2025-03-15T17:12:54.618936Z",
     "shell.execute_reply": "2025-03-15T17:12:54.617903Z",
     "shell.execute_reply.started": "2025-03-15T17:12:54.609966Z"
    },
    "trusted": true
   },
   "outputs": [
    {
     "data": {
      "text/plain": [
       "array(['Master', 'Miss', 'Mr', 'Mrs', 'Rare'], dtype=object)"
      ]
     },
     "execution_count": 211,
     "metadata": {},
     "output_type": "execute_result"
    }
   ],
   "source": [
    "np.unique(train_df.Title)"
   ]
  },
  {
   "cell_type": "code",
   "execution_count": 212,
   "metadata": {
    "execution": {
     "iopub.execute_input": "2025-03-15T17:12:54.620150Z",
     "iopub.status.busy": "2025-03-15T17:12:54.619837Z",
     "iopub.status.idle": "2025-03-15T17:12:54.639697Z",
     "shell.execute_reply": "2025-03-15T17:12:54.638603Z",
     "shell.execute_reply.started": "2025-03-15T17:12:54.620124Z"
    },
    "trusted": true
   },
   "outputs": [
    {
     "data": {
      "text/plain": [
       "array(['Dona', 'Master', 'Miss', 'Mr', 'Mrs', 'Rare'], dtype=object)"
      ]
     },
     "execution_count": 212,
     "metadata": {},
     "output_type": "execute_result"
    }
   ],
   "source": [
    "np.unique(test_df.Title)"
   ]
  },
  {
   "cell_type": "markdown",
   "metadata": {},
   "source": [
    "## Get family members"
   ]
  },
  {
   "cell_type": "code",
   "execution_count": 213,
   "metadata": {
    "execution": {
     "iopub.execute_input": "2025-03-15T17:12:54.641212Z",
     "iopub.status.busy": "2025-03-15T17:12:54.640875Z",
     "iopub.status.idle": "2025-03-15T17:12:54.664210Z",
     "shell.execute_reply": "2025-03-15T17:12:54.663015Z",
     "shell.execute_reply.started": "2025-03-15T17:12:54.641182Z"
    },
    "trusted": true
   },
   "outputs": [],
   "source": [
    "train_df['FamSize'] = train_df['SibSp'] + train_df['Parch'] + 1\n",
    "test_df['FamSize'] = test_df['SibSp'] + test_df['Parch'] + 1\n",
    "train_df['Alone'] = (train_df['FamSize'] == 1).astype(int)\n",
    "test_df['Alone'] = (test_df['FamSize'] == 1).astype(int)"
   ]
  },
  {
   "cell_type": "markdown",
   "metadata": {},
   "source": [
    "# Divide fare into quantile"
   ]
  },
  {
   "cell_type": "code",
   "execution_count": 214,
   "metadata": {
    "execution": {
     "iopub.execute_input": "2025-03-15T17:12:54.665746Z",
     "iopub.status.busy": "2025-03-15T17:12:54.665350Z",
     "iopub.status.idle": "2025-03-15T17:12:54.689415Z",
     "shell.execute_reply": "2025-03-15T17:12:54.688250Z",
     "shell.execute_reply.started": "2025-03-15T17:12:54.665705Z"
    },
    "trusted": true
   },
   "outputs": [],
   "source": [
    "train_df['FareQuantile'] = pd.qcut(train_df['Fare'], 4, labels=False)\n",
    "test_df['FareQuantile'] = pd.qcut(test_df['Fare'], 4, labels=False)"
   ]
  },
  {
   "cell_type": "markdown",
   "metadata": {},
   "source": [
    "# One hot encoder"
   ]
  },
  {
   "cell_type": "code",
   "execution_count": 215,
   "metadata": {
    "execution": {
     "iopub.execute_input": "2025-03-15T17:12:54.690905Z",
     "iopub.status.busy": "2025-03-15T17:12:54.690475Z",
     "iopub.status.idle": "2025-03-15T17:12:54.716264Z",
     "shell.execute_reply": "2025-03-15T17:12:54.715266Z",
     "shell.execute_reply.started": "2025-03-15T17:12:54.690864Z"
    },
    "trusted": true
   },
   "outputs": [],
   "source": [
    "train_df = pd.get_dummies(train_df, columns=['Sex', 'Embarked', 'Title'], drop_first=True)\n",
    "test_df = pd.get_dummies(test_df, columns=['Sex', 'Embarked', 'Title'], drop_first=True)"
   ]
  },
  {
   "cell_type": "code",
   "execution_count": 216,
   "metadata": {
    "execution": {
     "iopub.execute_input": "2025-03-15T17:12:54.717701Z",
     "iopub.status.busy": "2025-03-15T17:12:54.717310Z",
     "iopub.status.idle": "2025-03-15T17:12:54.725770Z",
     "shell.execute_reply": "2025-03-15T17:12:54.724531Z",
     "shell.execute_reply.started": "2025-03-15T17:12:54.717661Z"
    },
    "trusted": true
   },
   "outputs": [
    {
     "data": {
      "text/plain": [
       "Index(['Survived', 'Pclass', 'Name', 'Age', 'SibSp', 'Parch', 'Ticket', 'Fare',\n",
       "       'Cabin', 'FamSize', 'Alone', 'FareQuantile', 'Sex_male', 'Embarked_Q',\n",
       "       'Embarked_S', 'Title_Miss', 'Title_Mr', 'Title_Mrs', 'Title_Rare'],\n",
       "      dtype='object')"
      ]
     },
     "execution_count": 216,
     "metadata": {},
     "output_type": "execute_result"
    }
   ],
   "source": [
    "train_df.columns"
   ]
  },
  {
   "cell_type": "code",
   "execution_count": 217,
   "metadata": {
    "execution": {
     "iopub.execute_input": "2025-03-15T17:12:54.727477Z",
     "iopub.status.busy": "2025-03-15T17:12:54.727099Z",
     "iopub.status.idle": "2025-03-15T17:12:54.749389Z",
     "shell.execute_reply": "2025-03-15T17:12:54.748240Z",
     "shell.execute_reply.started": "2025-03-15T17:12:54.727440Z"
    },
    "trusted": true
   },
   "outputs": [
    {
     "data": {
      "text/plain": [
       "Index(['Pclass', 'Name', 'Age', 'SibSp', 'Parch', 'Ticket', 'Fare', 'Cabin',\n",
       "       'FamSize', 'Alone', 'FareQuantile', 'Sex_male', 'Embarked_Q',\n",
       "       'Embarked_S', 'Title_Master', 'Title_Miss', 'Title_Mr', 'Title_Mrs',\n",
       "       'Title_Rare'],\n",
       "      dtype='object')"
      ]
     },
     "execution_count": 217,
     "metadata": {},
     "output_type": "execute_result"
    }
   ],
   "source": [
    "test_df.columns"
   ]
  },
  {
   "cell_type": "code",
   "execution_count": 218,
   "metadata": {
    "execution": {
     "iopub.execute_input": "2025-03-15T17:12:54.750749Z",
     "iopub.status.busy": "2025-03-15T17:12:54.750484Z",
     "iopub.status.idle": "2025-03-15T17:12:54.770921Z",
     "shell.execute_reply": "2025-03-15T17:12:54.769832Z",
     "shell.execute_reply.started": "2025-03-15T17:12:54.750726Z"
    },
    "trusted": true
   },
   "outputs": [],
   "source": [
    "# Note that Cabin miss too many values, Name is not usable for training, and Ticket values too various and not potential pattern\n",
    "try:\n",
    "    train_df = train_df.drop([\"Ticket\", \"Cabin\", \"Name\", 'SibSp', 'Parch', 'Ticket', 'Fare', 'Cabin'], axis = 1)\n",
    "    test_df = test_df.drop([\"Ticket\", \"Cabin\", \"Name\", 'SibSp', 'Parch', 'Ticket', 'Fare', 'Cabin'], axis = 1)\n",
    "except:\n",
    "    pass\n",
    "# train_df.Survived = train_df.Survived.astype('object')"
   ]
  },
  {
   "cell_type": "code",
   "execution_count": 219,
   "metadata": {
    "execution": {
     "iopub.execute_input": "2025-03-15T17:12:54.772467Z",
     "iopub.status.busy": "2025-03-15T17:12:54.772074Z",
     "iopub.status.idle": "2025-03-15T17:12:54.795556Z",
     "shell.execute_reply": "2025-03-15T17:12:54.794107Z",
     "shell.execute_reply.started": "2025-03-15T17:12:54.772424Z"
    },
    "trusted": true
   },
   "outputs": [],
   "source": [
    "features = ['Pclass', 'Age', 'FareQuantile', 'FamSize', 'Alone', 'Sex_male', 'Embarked_Q', 'Embarked_S', 'Title_Mr', 'Title_Mrs', 'Title_Miss', 'Title_Rare']\n",
    "train_df = train_df[features + ['Survived']]\n",
    "test_df = test_df[features]"
   ]
  },
  {
   "cell_type": "markdown",
   "metadata": {},
   "source": [
    "### These columns are at type of boolean so I transform it to -6 and 6 so that sigmoid function can map them to 0 and 1"
   ]
  },
  {
   "cell_type": "code",
   "execution_count": 220,
   "metadata": {
    "execution": {
     "iopub.execute_input": "2025-03-15T17:12:54.797262Z",
     "iopub.status.busy": "2025-03-15T17:12:54.796796Z",
     "iopub.status.idle": "2025-03-15T17:12:54.820502Z",
     "shell.execute_reply": "2025-03-15T17:12:54.819290Z",
     "shell.execute_reply.started": "2025-03-15T17:12:54.797229Z"
    },
    "trusted": true
   },
   "outputs": [],
   "source": [
    "boolean_columns = ['Sex_male', 'Embarked_Q', 'Embarked_S', 'Title_Mr', 'Title_Mrs', 'Title_Miss', 'Title_Rare']\n",
    "train_df[boolean_columns] = train_df[boolean_columns].astype(int).replace({0: -6, 1: 6})\n",
    "test_df[boolean_columns] = test_df[boolean_columns].astype(int).replace({0: -6, 1: 6})"
   ]
  },
  {
   "cell_type": "code",
   "execution_count": 221,
   "metadata": {
    "execution": {
     "iopub.execute_input": "2025-03-15T17:12:54.822197Z",
     "iopub.status.busy": "2025-03-15T17:12:54.821565Z",
     "iopub.status.idle": "2025-03-15T17:12:54.828494Z",
     "shell.execute_reply": "2025-03-15T17:12:54.827526Z",
     "shell.execute_reply.started": "2025-03-15T17:12:54.822153Z"
    },
    "trusted": true
   },
   "outputs": [],
   "source": [
    "X = train_df.drop(columns=\"Survived\", axis=1)\n",
    "y = train_df[\"Survived\"]"
   ]
  },
  {
   "cell_type": "code",
   "execution_count": 222,
   "metadata": {
    "execution": {
     "iopub.execute_input": "2025-03-15T17:12:54.829900Z",
     "iopub.status.busy": "2025-03-15T17:12:54.829478Z",
     "iopub.status.idle": "2025-03-15T17:12:54.849392Z",
     "shell.execute_reply": "2025-03-15T17:12:54.848339Z",
     "shell.execute_reply.started": "2025-03-15T17:12:54.829857Z"
    },
    "trusted": true
   },
   "outputs": [],
   "source": [
    "X_train, X_val, y_train, y_val = train_test_split(X, y, random_state=50)"
   ]
  },
  {
   "cell_type": "code",
   "execution_count": 223,
   "metadata": {
    "execution": {
     "iopub.execute_input": "2025-03-15T17:12:54.850699Z",
     "iopub.status.busy": "2025-03-15T17:12:54.850396Z",
     "iopub.status.idle": "2025-03-15T17:12:54.867000Z",
     "shell.execute_reply": "2025-03-15T17:12:54.866000Z",
     "shell.execute_reply.started": "2025-03-15T17:12:54.850674Z"
    },
    "trusted": true
   },
   "outputs": [
    {
     "data": {
      "text/plain": [
       "(668, 12)"
      ]
     },
     "execution_count": 223,
     "metadata": {},
     "output_type": "execute_result"
    }
   ],
   "source": [
    "X_train.shape"
   ]
  },
  {
   "cell_type": "code",
   "execution_count": 224,
   "metadata": {
    "execution": {
     "iopub.execute_input": "2025-03-15T17:12:54.868444Z",
     "iopub.status.busy": "2025-03-15T17:12:54.868031Z",
     "iopub.status.idle": "2025-03-15T17:12:54.886750Z",
     "shell.execute_reply": "2025-03-15T17:12:54.885718Z",
     "shell.execute_reply.started": "2025-03-15T17:12:54.868409Z"
    },
    "trusted": true
   },
   "outputs": [
    {
     "data": {
      "text/plain": [
       "(668,)"
      ]
     },
     "execution_count": 224,
     "metadata": {},
     "output_type": "execute_result"
    }
   ],
   "source": [
    "y_train.shape"
   ]
  },
  {
   "cell_type": "markdown",
   "metadata": {},
   "source": [
    "# Model"
   ]
  },
  {
   "cell_type": "code",
   "execution_count": 225,
   "metadata": {
    "execution": {
     "iopub.execute_input": "2025-03-15T17:12:54.890475Z",
     "iopub.status.busy": "2025-03-15T17:12:54.890170Z",
     "iopub.status.idle": "2025-03-15T17:12:54.903999Z",
     "shell.execute_reply": "2025-03-15T17:12:54.902891Z",
     "shell.execute_reply.started": "2025-03-15T17:12:54.890447Z"
    },
    "trusted": true
   },
   "outputs": [],
   "source": [
    "class LogisticRegression:\n",
    "    def __init__(self, learning_rate=0.01, num_iterations=1000):\n",
    "        \"\"\"\n",
    "        Initialize the Logistic Regression model.\n",
    "        \n",
    "        Parameters:\n",
    "        - learning_rate: Step size for gradient descent (default: 0.01).\n",
    "        - num_iterations: Number of iterations for gradient descent (default: 1000).\n",
    "        \"\"\"\n",
    "        self.learning_rate = learning_rate\n",
    "        self.num_iterations = num_iterations\n",
    "        self.weights = None\n",
    "        self.bias = None\n",
    "        self.best_weights = None \n",
    "        self.best_bias = None \n",
    "        self.best_validation_accuracy = 0 \n",
    "\n",
    "    def sigmoid(self, z):\n",
    "        \"\"\"\n",
    "        Sigmoid function to map predictions to probabilities.\n",
    "        \n",
    "        Parameters:\n",
    "        - z: Linear combination of inputs and weights.\n",
    "        \n",
    "        Returns:\n",
    "        - Probability value between 0 and 1.\n",
    "        \"\"\"\n",
    "        return 1 / (1 + np.exp(-z))\n",
    "\n",
    "    def fit(self, X, y, X_val=None, y_val=None):\n",
    "        \"\"\"\n",
    "        Train the Logistic Regression model using gradient descent.\n",
    "        \n",
    "        Parameters:\n",
    "        - X: Input features (numpy array of shape (num_samples, num_features)).\n",
    "        - y: Target labels (numpy array of shape (num_samples,)).\n",
    "        \"\"\"\n",
    "        num_samples, num_features = X.shape\n",
    "\n",
    "        # Initialize weights and bias to zeros\n",
    "        self.weights = np.zeros(num_features)\n",
    "        self.bias = 0\n",
    "\n",
    "        # Gradient Descent\n",
    "        for i in range(self.num_iterations):\n",
    "            # Linear combination of inputs and weights\n",
    "            linear_model = np.dot(X, self.weights) + self.bias\n",
    "\n",
    "            # Apply sigmoid to get probabilities\n",
    "            y_predicted = self.sigmoid(linear_model)\n",
    "\n",
    "            # Compute gradients\n",
    "            dw = (1 / num_samples) * np.dot(X.T, (y_predicted - y))  # Gradient of weights\n",
    "            db = (1 / num_samples) * np.sum(y_predicted - y)  # Gradient of bias\n",
    "\n",
    "            # Update weights and bias\n",
    "            self.weights -= self.learning_rate * dw\n",
    "            self.bias -= self.learning_rate * db\n",
    "\n",
    "            # Validation\n",
    "            if X_val is not None and y_val is  not None:\n",
    "                val_predictions = self.predict(X_val)\n",
    "                val_accuracy = accuracy_score(y_val, val_predictions)\n",
    "                if val_accuracy > self.best_validation_accuracy:\n",
    "                    self.best_validation_accuracy = val_accuracy\n",
    "                    self.best_weights = np.copy(self.weights)\n",
    "                    self.best_bias = self.bias\n",
    "                    print(f\"✅New best validation accuracy: {val_accuracy:.4f} at iteration {i}\")\n",
    "\n",
    "            # Update if exist\n",
    "            if X_val is not None and y_val is not None:\n",
    "                self.weights = self.best_weights\n",
    "                self.bias = self.best_bias\n",
    "\n",
    "    def predict_prob(self, X):\n",
    "        \"\"\"\n",
    "        Predict probabilities for the input data.\n",
    "        \n",
    "        Parameters:\n",
    "        - X: Input features (numpy array of shape (num_samples, num_features)).\n",
    "        \n",
    "        Returns:\n",
    "        - Predicted probabilities (numpy array of shape (num_samples,)).\n",
    "        \"\"\"\n",
    "        linear_model = np.dot(X, self.weights) + self.bias\n",
    "        return self.sigmoid(linear_model)\n",
    "\n",
    "    def predict(self, X, threshold=0.5):\n",
    "        \"\"\"\n",
    "        Predict class labels for the input data.\n",
    "        \n",
    "        Parameters:\n",
    "        - X: Input features (numpy array of shape (num_samples, num_features)).\n",
    "        - threshold: Decision boundary for classification (default: 0.5).\n",
    "        \n",
    "        Returns:\n",
    "        - Predicted class labels (0 or 1) (numpy array of shape (num_samples,)).\n",
    "        \"\"\"\n",
    "        probabilities = self.predict_prob(X)\n",
    "        return (probabilities >= threshold).astype(int)"
   ]
  },
  {
   "cell_type": "code",
   "execution_count": 226,
   "metadata": {
    "execution": {
     "iopub.execute_input": "2025-03-15T17:12:54.905596Z",
     "iopub.status.busy": "2025-03-15T17:12:54.905314Z",
     "iopub.status.idle": "2025-03-15T17:13:07.065993Z",
     "shell.execute_reply": "2025-03-15T17:13:07.064911Z",
     "shell.execute_reply.started": "2025-03-15T17:12:54.905572Z"
    },
    "trusted": true
   },
   "outputs": [
    {
     "name": "stdout",
     "output_type": "stream",
     "text": [
      "✅New best validation accuracy: 0.5919 at iteration 0\n",
      "✅New best validation accuracy: 0.5964 at iteration 3\n",
      "✅New best validation accuracy: 0.6099 at iteration 4\n",
      "✅New best validation accuracy: 0.6143 at iteration 8\n",
      "✅New best validation accuracy: 0.6233 at iteration 10\n",
      "✅New best validation accuracy: 0.6278 at iteration 11\n",
      "✅New best validation accuracy: 0.6323 at iteration 12\n",
      "✅New best validation accuracy: 0.6368 at iteration 15\n",
      "✅New best validation accuracy: 0.6502 at iteration 16\n",
      "✅New best validation accuracy: 0.6592 at iteration 18\n",
      "✅New best validation accuracy: 0.6951 at iteration 19\n",
      "✅New best validation accuracy: 0.7130 at iteration 21\n",
      "✅New best validation accuracy: 0.7265 at iteration 23\n",
      "✅New best validation accuracy: 0.7399 at iteration 24\n",
      "✅New best validation accuracy: 0.7534 at iteration 25\n",
      "✅New best validation accuracy: 0.7578 at iteration 26\n",
      "✅New best validation accuracy: 0.7623 at iteration 27\n",
      "✅New best validation accuracy: 0.7713 at iteration 28\n",
      "✅New best validation accuracy: 0.7758 at iteration 29\n",
      "✅New best validation accuracy: 0.7803 at iteration 30\n",
      "✅New best validation accuracy: 0.7848 at iteration 39\n",
      "✅New best validation accuracy: 0.7937 at iteration 42\n",
      "✅New best validation accuracy: 0.7982 at iteration 748\n",
      "✅New best validation accuracy: 0.8027 at iteration 765\n",
      "✅New best validation accuracy: 0.8072 at iteration 1196\n",
      "✅New best validation accuracy: 0.8117 at iteration 1500\n",
      "✅New best validation accuracy: 0.8161 at iteration 2281\n",
      "✅New best validation accuracy: 0.8206 at iteration 2423\n",
      "✅New best validation accuracy: 0.8251 at iteration 2717\n",
      "✅New best validation accuracy: 0.8296 at iteration 2930\n",
      "✅New best validation accuracy: 0.8341 at iteration 3062\n",
      "✅New best validation accuracy: 0.8386 at iteration 6648\n",
      "              precision    recall  f1-score   support\n",
      "\n",
      "           0       0.92      0.82      0.87       145\n",
      "           1       0.72      0.86      0.78        78\n",
      "\n",
      "    accuracy                           0.83       223\n",
      "   macro avg       0.82      0.84      0.82       223\n",
      "weighted avg       0.85      0.83      0.84       223\n",
      "\n"
     ]
    }
   ],
   "source": [
    "# Create and train the model\n",
    "model = LogisticRegression(learning_rate=0.001, num_iterations=7000)\n",
    "model.fit(X_train, y_train, X_val, y_val)\n",
    "\n",
    "# Make predictions\n",
    "y_pred = model.predict(X_val)\n",
    "print(classification_report(y_pred, y_val))"
   ]
  },
  {
   "cell_type": "markdown",
   "metadata": {},
   "source": [
    "# Testing"
   ]
  },
  {
   "cell_type": "code",
   "execution_count": 227,
   "metadata": {
    "execution": {
     "iopub.execute_input": "2025-03-15T17:13:07.067133Z",
     "iopub.status.busy": "2025-03-15T17:13:07.066852Z",
     "iopub.status.idle": "2025-03-15T17:13:07.073370Z",
     "shell.execute_reply": "2025-03-15T17:13:07.072413Z",
     "shell.execute_reply.started": "2025-03-15T17:13:07.067109Z"
    },
    "trusted": true
   },
   "outputs": [
    {
     "data": {
      "text/plain": [
       "Index(['Pclass', 'Age', 'FareQuantile', 'FamSize', 'Alone', 'Sex_male',\n",
       "       'Embarked_Q', 'Embarked_S', 'Title_Mr', 'Title_Mrs', 'Title_Miss',\n",
       "       'Title_Rare'],\n",
       "      dtype='object')"
      ]
     },
     "execution_count": 227,
     "metadata": {},
     "output_type": "execute_result"
    }
   ],
   "source": [
    "test_df.columns"
   ]
  },
  {
   "cell_type": "code",
   "execution_count": 228,
   "metadata": {
    "execution": {
     "iopub.execute_input": "2025-03-15T17:13:07.074854Z",
     "iopub.status.busy": "2025-03-15T17:13:07.074400Z",
     "iopub.status.idle": "2025-03-15T17:13:07.094142Z",
     "shell.execute_reply": "2025-03-15T17:13:07.093131Z",
     "shell.execute_reply.started": "2025-03-15T17:13:07.074813Z"
    },
    "trusted": true
   },
   "outputs": [
    {
     "data": {
      "text/plain": [
       "Index(['Pclass', 'Age', 'FareQuantile', 'FamSize', 'Alone', 'Sex_male',\n",
       "       'Embarked_Q', 'Embarked_S', 'Title_Mr', 'Title_Mrs', 'Title_Miss',\n",
       "       'Title_Rare', 'Survived'],\n",
       "      dtype='object')"
      ]
     },
     "execution_count": 228,
     "metadata": {},
     "output_type": "execute_result"
    }
   ],
   "source": [
    "train_df.columns"
   ]
  },
  {
   "cell_type": "code",
   "execution_count": 233,
   "metadata": {
    "execution": {
     "iopub.execute_input": "2025-03-15T17:14:30.042186Z",
     "iopub.status.busy": "2025-03-15T17:14:30.041820Z",
     "iopub.status.idle": "2025-03-15T17:14:30.050615Z",
     "shell.execute_reply": "2025-03-15T17:14:30.049511Z",
     "shell.execute_reply.started": "2025-03-15T17:14:30.042158Z"
    },
    "trusted": true
   },
   "outputs": [],
   "source": [
    "# features = [x for x in list(train_df.columns) if x not in [\"Survived\"]]\n",
    "# features = ['Pclass', 'Age', 'FareQuantile', 'FamSize', 'Alone', 'Sex_male', 'Embarked_Q', 'Embarked_S', 'Title_Mr', 'Title_Mrs', 'Title_Miss', 'Title_Rare']\n",
    "predictions = model.predict(test_df)\n",
    "\n",
    "submission = pd.DataFrame({'PassengerId': test_df.index, 'Survived': predictions})\n",
    "submission.to_csv('submission.csv', index=False)"
   ]
  },
  {
   "cell_type": "code",
   "execution_count": null,
   "metadata": {
    "trusted": true
   },
   "outputs": [],
   "source": []
  }
 ],
 "metadata": {
  "kaggle": {
   "accelerator": "none",
   "dataSources": [
    {
     "databundleVersionId": 26502,
     "sourceId": 3136,
     "sourceType": "competition"
    }
   ],
   "dockerImageVersionId": 30918,
   "isGpuEnabled": false,
   "isInternetEnabled": true,
   "language": "python",
   "sourceType": "notebook"
  },
  "kernelspec": {
   "display_name": "Python 3",
   "language": "python",
   "name": "python3"
  },
  "language_info": {
   "codemirror_mode": {
    "name": "ipython",
    "version": 3
   },
   "file_extension": ".py",
   "mimetype": "text/x-python",
   "name": "python",
   "nbconvert_exporter": "python",
   "pygments_lexer": "ipython3",
   "version": "3.10.12"
  }
 },
 "nbformat": 4,
 "nbformat_minor": 4
}
